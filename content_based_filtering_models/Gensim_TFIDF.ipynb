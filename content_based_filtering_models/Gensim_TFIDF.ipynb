{
 "cells": [
  {
   "cell_type": "code",
   "execution_count": 1,
   "metadata": {},
   "outputs": [],
   "source": [
    "import gensim\n",
    "import gensim.downloader as api\n",
    "from gensim.models import TfidfModel, LsiModel\n",
    "from gensim.corpora import Dictionary\n",
    "from gensim import similarities\n",
    "from gensim.test.utils import common_corpus, common_dictionary"
   ]
  },
  {
   "cell_type": "code",
   "execution_count": 4,
   "metadata": {},
   "outputs": [],
   "source": [
    "def custom_tokenizer(strings) :\n",
    "    wordList = strings.split()\n",
    "    result = []\n",
    "    for word in wordList :\n",
    "        if (word.endswith('noun') or word.endswith('alpha') or word.endswith('number')) :\n",
    "            result.append(word)\n",
    "            \n",
    "        if (len(result) >= 200) :\n",
    "            break\n",
    "            \n",
    "    return result"
   ]
  },
  {
   "cell_type": "code",
   "execution_count": 6,
   "metadata": {},
   "outputs": [
    {
     "name": "stdout",
     "output_type": "stream",
     "text": [
      "798339\n"
     ]
    }
   ],
   "source": [
    "fname = './train_data_1012/trainingSet/excluded_total_dataset.txt'\n",
    "sentences = []\n",
    "with open(fname, \"r\", encoding = 'utf-8') as fp :\n",
    "    temp = fp.readlines()\n",
    "    for sentence in temp :\n",
    "        split_ = sentence.split(\"\\t\")\n",
    "        sentences.append(split_[3])\n",
    "\n",
    "print(len(sentences))"
   ]
  },
  {
   "cell_type": "code",
   "execution_count": 7,
   "metadata": {},
   "outputs": [
    {
     "name": "stdout",
     "output_type": "stream",
     "text": [
      "CPU times: user 2min 18s, sys: 12.3 s, total: 2min 30s\n",
      "Wall time: 2min 30s\n",
      "<class 'list'>\n",
      "798339\n"
     ]
    }
   ],
   "source": [
    "%time tokens = [custom_tokenizer(sentence) for sentence in sentences]\n",
    "print(type(tokens))\n",
    "print(len(tokens))"
   ]
  },
  {
   "cell_type": "code",
   "execution_count": 8,
   "metadata": {},
   "outputs": [
    {
     "name": "stdout",
     "output_type": "stream",
     "text": [
      "CPU times: user 2min 47s, sys: 94.9 ms, total: 2min 47s\n",
      "Wall time: 2min 47s\n",
      "<class 'gensim.corpora.dictionary.Dictionary'>\n",
      "410417\n"
     ]
    }
   ],
   "source": [
    "%time corpus_id2word = Dictionary(tokens)\n",
    "print(type(corpus_id2word))\n",
    "print(len(corpus_id2word.keys()))"
   ]
  },
  {
   "cell_type": "code",
   "execution_count": 9,
   "metadata": {},
   "outputs": [
    {
     "name": "stdout",
     "output_type": "stream",
     "text": [
      "CPU times: user 1.12 s, sys: 84.4 ms, total: 1.21 s\n",
      "Wall time: 1.21 s\n",
      "116816\n"
     ]
    }
   ],
   "source": [
    "# min_df가 10일 때의 number of words가 116816임\n",
    "%time corpus_id2word.filter_extremes(keep_n = 116816) \n",
    "print(len(corpus_id2word.keys()))"
   ]
  },
  {
   "cell_type": "code",
   "execution_count": 10,
   "metadata": {},
   "outputs": [],
   "source": [
    "corpus_id2word.save(\"./lsi_dictionary.dict\") # cutting한 dictionary를 저장"
   ]
  },
  {
   "cell_type": "code",
   "execution_count": 11,
   "metadata": {},
   "outputs": [
    {
     "name": "stdout",
     "output_type": "stream",
     "text": [
      "['증시/noun', '3/number', '악재/noun', '연말/noun', '산타랠리/noun', '긴축/noun', '우려/noun', '유럽/noun', '재정/noun', '위기/noun', '북한/noun', '리스크/noun', '등/noun', '돌/noun', '서울/noun', '연합뉴스/noun', '한지훈/noun', '기자/noun', '12월/number', '국내/noun', '증시/noun', '중국/noun', '긴축/noun', '우려/noun', '유럽/noun', '재정/noun', '위기/noun', '북한/noun', '리스크/noun', '등/noun', '3/number', '악재/noun', '연말/noun', '계절/noun', '강세/noun', '의미/noun', '산타랠리/noun', '를/noun', '만끽/noun', '전망/noun', '다수/noun', '증시/noun', '전문가/noun', '코스피지수/noun', '올해/noun', '안/noun', '2,000/number', '선/noun', '다시/noun', '비행/noun', '것/noun', '예측/noun', '28일/number', '증권/noun', '업계/noun', '중국/noun', '긴축/noun', '우려/noun', '유럽/noun', '재정/noun', '위기/noun', '등/noun', '기존/noun', '지수/noun', '압박/noun', '해외/noun', '변수/noun', '불확실/noun', '띠/noun', '가운데/noun', '북한/noun', '기습/noun', '포격/noun', '겹치/noun', '시장/noun', '투자/noun', '심리/noun', '위축/noun', '한층/noun', '가중/noun', '모습/noun', '아일랜드/noun', '금융/noun', '유로존/noun', '대한/noun', '불안감/noun', '일부/noun', '해소/noun', '스페인/noun', '이탈리아/noun', '등/noun', '국채/noun', '상환/noun', '정이/noun', '내년/noun', '상반기/noun', '장기/noun', '전망/noun', '미국/noun', '중심/noun', '쇼핑/noun', '시즌/noun', '소비/noun', '경기/noun', '회복/noun', '관심/noun', '수/noun', '산타랠리/noun', '를/noun', '형성/noun', '만큼/noun', '상승/noun', '동력/noun', '제공/noun', '미지수/noun', '전문가/noun', '입/noun', '삼성/noun', '증권/noun', '유재성/noun', '리서치/noun', '센터/noun', '12월/number', '코스피지수/noun', '1,870~2/number', '000/number', '사이/noun', '것/noun', '며/noun', '증시/noun', '발목/noun', '기존/noun', '악재/noun', '파급/noun', '효과/noun', '계속/noun', '것/noun', '이기/noun', '때문/noun', '지수/noun', '2,000/number', '선/noun', '전망/noun', '유/noun', '센터/noun', '다만/noun', '미국/noun', '소비/noun', '수요/noun', '증가/noun', '전기/noun', '전자/noun', 'it/alpha', '등/noun', '일부/noun', '업종/noun', '상승세/noun', '예상/noun', '수/noun', '고/noun', '말/noun', '미래에셋/noun', '증권/noun', '황/noun', '상연/noun', '리서치/noun', '센터/noun', '코스피지수/noun', '11월/number', '종가/noun', '것/noun', '전후/noun', '악재/noun', '호재/noun', '겹/noun', '12월/number', '얘기/noun', '상황/noun', '말/noun', '황/noun', '센터/noun', '산타랠리/noun', '중기/noun', '상승/noun', '추세/noun', '것/noun', '며/noun', '코스피지수/noun', '점/noun', '1,940~2/number', '000/number', '정도/noun', '예상/noun', '대우/noun', '증권/noun', '양기/noun', '리서치/noun', '센터/noun', '내년/noun', '초/noun']\n"
     ]
    }
   ],
   "source": [
    "print(tokens[0])"
   ]
  },
  {
   "cell_type": "code",
   "execution_count": 12,
   "metadata": {},
   "outputs": [
    {
     "name": "stdout",
     "output_type": "stream",
     "text": [
      "CPU times: user 2min 18s, sys: 5.88 s, total: 2min 24s\n",
      "Wall time: 2min 24s\n",
      "<class 'list'>\n"
     ]
    }
   ],
   "source": [
    "# custom_tokenizer를 거친 token들을 TF-IDF model을 이용할 수 있도록 bag of words 형태로 바꿈\n",
    "%time corpus = [corpus_id2word.doc2bow(token_set) for token_set in tokens]\n",
    "print(type(corpus))"
   ]
  },
  {
   "cell_type": "code",
   "execution_count": 14,
   "metadata": {},
   "outputs": [
    {
     "name": "stdout",
     "output_type": "stream",
     "text": [
      "CPU times: user 29.9 s, sys: 14.9 ms, total: 29.9 s\n",
      "Wall time: 29.9 s\n"
     ]
    }
   ],
   "source": [
    "%time tfidf = TfidfModel(corpus)"
   ]
  },
  {
   "cell_type": "code",
   "execution_count": 15,
   "metadata": {},
   "outputs": [],
   "source": [
    "tfidf.save(\"./tfidf_training.model\")"
   ]
  },
  {
   "cell_type": "code",
   "execution_count": 16,
   "metadata": {},
   "outputs": [
    {
     "name": "stdout",
     "output_type": "stream",
     "text": [
      "CPU times: user 30 µs, sys: 3 µs, total: 33 µs\n",
      "Wall time: 34.1 µs\n"
     ]
    }
   ],
   "source": [
    "%time corpus_tfidf = tfidf[corpus]"
   ]
  },
  {
   "cell_type": "code",
   "execution_count": 15,
   "metadata": {},
   "outputs": [
    {
     "name": "stdout",
     "output_type": "stream",
     "text": [
      "CPU times: user 2h 44min 51s, sys: 2h 29min 40s, total: 5h 14min 31s\n",
      "Wall time: 48min 21s\n"
     ]
    }
   ],
   "source": [
    "%time lsi = LsiModel(corpus_tfidf, id2word = corpus_id2word, num_topics = 500)"
   ]
  },
  {
   "cell_type": "code",
   "execution_count": 41,
   "metadata": {},
   "outputs": [
    {
     "name": "stdout",
     "output_type": "stream",
     "text": [
      "CPU times: user 39 µs, sys: 0 ns, total: 39 µs\n",
      "Wall time: 42.9 µs\n"
     ]
    }
   ],
   "source": [
    "%time corpus_lsi = lsi[corpus_tfidf]"
   ]
  },
  {
   "cell_type": "code",
   "execution_count": 22,
   "metadata": {},
   "outputs": [],
   "source": [
    "lsi.save(\"./LSI_training.model\")"
   ]
  },
  {
   "cell_type": "code",
   "execution_count": 42,
   "metadata": {},
   "outputs": [
    {
     "name": "stdout",
     "output_type": "stream",
     "text": [
      "0.346*\"stx/alpha\" + -0.182*\"위안화/noun\" + 0.153*\"중산층/noun\" + 0.143*\"승률/noun\" + -0.132*\"셋값/noun\" + 0.115*\"매각/noun\" + 0.109*\"상/noun\" + -0.107*\"국민은행/noun\" + -0.103*\"신세계/noun\" + 0.097*\"강/noun\"\n"
     ]
    }
   ],
   "source": [
    "print(lsi.print_topic(499))"
   ]
  },
  {
   "cell_type": "code",
   "execution_count": 51,
   "metadata": {},
   "outputs": [
    {
     "name": "stdout",
     "output_type": "stream",
     "text": [
      "CPU times: user 24min 18s, sys: 2.7 s, total: 24min 20s\n",
      "Wall time: 24min 20s\n"
     ]
    }
   ],
   "source": [
    "%time index = similarities.MatrixSimilarity(lsi[corpus_tfidf])"
   ]
  },
  {
   "cell_type": "code",
   "execution_count": 52,
   "metadata": {},
   "outputs": [],
   "source": [
    "index.save('./lsi_similarity.index')"
   ]
  },
  {
   "cell_type": "code",
   "execution_count": 54,
   "metadata": {},
   "outputs": [
    {
     "name": "stdout",
     "output_type": "stream",
     "text": [
      "['미국/noun', '이란/noun', '정면/noun', '충돌/noun', '시나리오/noun', '가나/noun', '신문/noun', '300/number', '개/noun', '공격/noun', '목표/noun', '세/noun', '방향/noun', '타격/noun', '계획/noun', '미국/noun', '부인/noun', '불구/noun', '이란/noun', '공격/noun', '시나리오/noun', '제기/noun', '등/noun', '미국/noun', '이란/noun', '정면/noun', '충돌/noun', '위기/noun', '고조/noun', '이란/noun', '공격/noun', '시나리오/noun', '조지/noun', '부시/noun', '대통령/noun', '로버트/noun', '게이츠/noun', '미국/noun', '방/noun', '장관/noun', '차례/noun', '부인/noun', '불구/noun', '미국/noun', '이란/noun', '공격/noun', '계획/noun', '수립/noun', '실제/noun', '이란/noun', '핵/noun', '시설/noun', '폭격/noun', '가능성/noun', '영국/noun', 'bbc/alpha', '방송/noun', '등/noun', '언론보도/noun', '또/noun', '유엔/noun', '안보리/noun', '결의/noun', '이란/noun', '핵/noun', '활동/noun', '중단/noun', '요구/noun', '시한/noun', '21일/number', '정면/noun', '대치/noun', '국면/noun', '긴장감/noun', '부시/noun', '행정부/noun', '이라크/noun', '사태/noun', '때문/noun', '당장/noun', '이란/noun', '손보기/noun', '수/noun', '입장/noun', '경고/noun', '메시지/noun', '무력/noun', '시위/noun', '이란/noun', '공격/noun', '시나리오/noun', '도/noun', '은근/noun', '것/noun', '전문가/noun', '해석/noun', '영국/noun', 'bbc/alpha', '방송/noun', '다시/noun', '보도/noun', '언론/noun', '시사/noun', '월간/noun', '어트랜틱/noun', '시작/noun', '최근/noun', 'cnn/alpha', '방송/noun', '등/noun', '미국/noun', '이란/noun', '공격/noun', '시나리오/noun', '보도/noun', '미국/noun', '이란/noun', '공격/noun', '시나리오/noun', '미국/noun', '첫째/noun', '이란/noun', '핵/noun', '시설/noun', '대한/noun', '선제/noun', '공격/noun', '방안/noun', '수립/noun', '것/noun', '미국/noun', '이/noun', '경우/noun', '이란/noun', '내/noun', '대략/noun', '300/number', '개/noun', '공격/noun', '목표/noun', '정해/noun', '집중/noun', '포화/noun', '300/number', '개/noun', '목표/noun', '물/noun', '가운데/noun', '핵/noun', '시설/noun', '생화학/noun', '무기/noun', '시설/noun', '125/number', '개/noun', '정도/noun', '나머지/noun', '공중/noun', '방어/noun', '망/noun', '사령부/noun', '시설/noun', '것/noun', '관측/noun', '둘째/noun', '이란/noun', '최/noun', '정예/noun', '부대/noun', '혁명/noun', '수비대/noun', '대한/noun', '보복/noun', '기습/noun', '공격/noun', '단행/noun', '것/noun', '후세인/noun', '정권/noun', '전복/noun', '이란/noun', '정권/noun', '교체/noun', '작전/noun', '것/noun', '언론/noun', '전하/noun', '미국/noun', '갈래/noun', '방향/noun', '이란/noun', '공격/noun', '군사작전/noun', '계획/noun', '첫째/noun', '이라크/noun', '국경/noun', '주력/noun', '군/noun', '공격/noun']\n"
     ]
    }
   ],
   "source": [
    "print(tokens[-1])"
   ]
  },
  {
   "cell_type": "code",
   "execution_count": 58,
   "metadata": {},
   "outputs": [
    {
     "name": "stdout",
     "output_type": "stream",
     "text": [
      "[(0, 0.09934064389292278), (1, -0.026067307670026265), (2, -0.029848312668925046), (3, -0.012031228107555789), (4, -0.03752097065740627), (5, -0.1004015180737048), (6, 0.006419642968160668), (7, -0.010956147071747227), (8, -0.01437437330475245), (9, 0.0018304173738976053)]\n"
     ]
    }
   ],
   "source": [
    "vec_bow = corpus_id2word.doc2bow(tokens[-1])\n",
    "vec_bow_tfidf = tfidf[vec_bow]\n",
    "vec_lsi = lsi[vec_bow_tfidf]\n",
    "print(vec_lsi[ : 10])"
   ]
  },
  {
   "cell_type": "code",
   "execution_count": 59,
   "metadata": {},
   "outputs": [],
   "source": [
    "sims = index[vec_lsi]"
   ]
  },
  {
   "cell_type": "code",
   "execution_count": 60,
   "metadata": {},
   "outputs": [
    {
     "name": "stdout",
     "output_type": "stream",
     "text": [
      "[(744743, 1.0), (798338, 1.0), (796632, 0.951585), (675309, 0.93731624), (787467, 0.93731624)]\n"
     ]
    }
   ],
   "source": [
    "sims = sorted(enumerate(sims), key = lambda item : -item[1])\n",
    "print(sims[ : 5])"
   ]
  },
  {
   "cell_type": "code",
   "execution_count": 88,
   "metadata": {},
   "outputs": [
    {
     "name": "stdout",
     "output_type": "stream",
     "text": [
      "744743 ['미국/noun', '이란/noun', '정면/noun', '충돌/noun', '시나리오/noun', '가나/noun', '신문/noun', '300/number', '개/noun', '공격/noun', '목표/noun', '세/noun', '방향/noun', '타격/noun', '계획/noun', '미국/noun', '부인/noun', '불구/noun', '이란/noun', '공격/noun', '시나리오/noun', '제기/noun', '등/noun', '미국/noun', '이란/noun', '정면/noun', '충돌/noun', '위기/noun', '고조/noun', '이란/noun', '공격/noun', '시나리오/noun', '조지/noun', '부시/noun', '대통령/noun', '로버트/noun', '게이츠/noun', '미국/noun', '방/noun', '장관/noun', '차례/noun', '부인/noun', '불구/noun', '미국/noun', '이란/noun', '공격/noun', '계획/noun', '수립/noun', '실제/noun', '이란/noun', '핵/noun', '시설/noun', '폭격/noun', '가능성/noun', '영국/noun', 'bbc/alpha', '방송/noun', '등/noun', '언론보도/noun', '또/noun', '유엔/noun', '안보리/noun', '결의/noun', '이란/noun', '핵/noun', '활동/noun', '중단/noun', '요구/noun', '시한/noun', '21일/number', '정면/noun', '대치/noun', '국면/noun', '긴장감/noun', '부시/noun', '행정부/noun', '이라크/noun', '사태/noun', '때문/noun', '당장/noun', '이란/noun', '손보기/noun', '수/noun', '입장/noun', '경고/noun', '메시지/noun', '무력/noun', '시위/noun', '이란/noun', '공격/noun', '시나리오/noun', '도/noun', '은근/noun', '것/noun', '전문가/noun', '해석/noun', '영국/noun', 'bbc/alpha', '방송/noun', '다시/noun', '보도/noun', '언론/noun', '시사/noun', '월간/noun', '어트랜틱/noun', '시작/noun', '최근/noun', 'cnn/alpha', '방송/noun', '등/noun', '미국/noun', '이란/noun', '공격/noun', '시나리오/noun', '보도/noun', '미국/noun', '이란/noun', '공격/noun', '시나리오/noun', '미국/noun', '첫째/noun', '이란/noun', '핵/noun', '시설/noun', '대한/noun', '선제/noun', '공격/noun', '방안/noun', '수립/noun', '것/noun', '미국/noun', '이/noun', '경우/noun', '이란/noun', '내/noun', '대략/noun', '300/number', '개/noun', '공격/noun', '목표/noun', '정해/noun', '집중/noun', '포화/noun', '300/number', '개/noun', '목표/noun', '물/noun', '가운데/noun', '핵/noun', '시설/noun', '생화학/noun', '무기/noun', '시설/noun', '125/number', '개/noun', '정도/noun', '나머지/noun', '공중/noun', '방어/noun', '망/noun', '사령부/noun', '시설/noun', '것/noun', '관측/noun', '둘째/noun', '이란/noun', '최/noun', '정예/noun', '부대/noun', '혁명/noun', '수비대/noun', '대한/noun', '보복/noun', '기습/noun', '공격/noun', '단행/noun', '것/noun', '후세인/noun', '정권/noun', '전복/noun', '이란/noun', '정권/noun', '교체/noun', '작전/noun', '것/noun', '언론/noun', '전하/noun', '미국/noun', '갈래/noun', '방향/noun', '이란/noun', '공격/noun', '군사작전/noun', '계획/noun', '첫째/noun', '이라크/noun', '국경/noun', '주력/noun', '군/noun', '공격/noun'] 1.0 \n",
      "\n",
      "798338 ['미국/noun', '이란/noun', '정면/noun', '충돌/noun', '시나리오/noun', '가나/noun', '신문/noun', '300/number', '개/noun', '공격/noun', '목표/noun', '세/noun', '방향/noun', '타격/noun', '계획/noun', '미국/noun', '부인/noun', '불구/noun', '이란/noun', '공격/noun', '시나리오/noun', '제기/noun', '등/noun', '미국/noun', '이란/noun', '정면/noun', '충돌/noun', '위기/noun', '고조/noun', '이란/noun', '공격/noun', '시나리오/noun', '조지/noun', '부시/noun', '대통령/noun', '로버트/noun', '게이츠/noun', '미국/noun', '방/noun', '장관/noun', '차례/noun', '부인/noun', '불구/noun', '미국/noun', '이란/noun', '공격/noun', '계획/noun', '수립/noun', '실제/noun', '이란/noun', '핵/noun', '시설/noun', '폭격/noun', '가능성/noun', '영국/noun', 'bbc/alpha', '방송/noun', '등/noun', '언론보도/noun', '또/noun', '유엔/noun', '안보리/noun', '결의/noun', '이란/noun', '핵/noun', '활동/noun', '중단/noun', '요구/noun', '시한/noun', '21일/number', '정면/noun', '대치/noun', '국면/noun', '긴장감/noun', '부시/noun', '행정부/noun', '이라크/noun', '사태/noun', '때문/noun', '당장/noun', '이란/noun', '손보기/noun', '수/noun', '입장/noun', '경고/noun', '메시지/noun', '무력/noun', '시위/noun', '이란/noun', '공격/noun', '시나리오/noun', '도/noun', '은근/noun', '것/noun', '전문가/noun', '해석/noun', '영국/noun', 'bbc/alpha', '방송/noun', '다시/noun', '보도/noun', '언론/noun', '시사/noun', '월간/noun', '어트랜틱/noun', '시작/noun', '최근/noun', 'cnn/alpha', '방송/noun', '등/noun', '미국/noun', '이란/noun', '공격/noun', '시나리오/noun', '보도/noun', '미국/noun', '이란/noun', '공격/noun', '시나리오/noun', '미국/noun', '첫째/noun', '이란/noun', '핵/noun', '시설/noun', '대한/noun', '선제/noun', '공격/noun', '방안/noun', '수립/noun', '것/noun', '미국/noun', '이/noun', '경우/noun', '이란/noun', '내/noun', '대략/noun', '300/number', '개/noun', '공격/noun', '목표/noun', '정해/noun', '집중/noun', '포화/noun', '300/number', '개/noun', '목표/noun', '물/noun', '가운데/noun', '핵/noun', '시설/noun', '생화학/noun', '무기/noun', '시설/noun', '125/number', '개/noun', '정도/noun', '나머지/noun', '공중/noun', '방어/noun', '망/noun', '사령부/noun', '시설/noun', '것/noun', '관측/noun', '둘째/noun', '이란/noun', '최/noun', '정예/noun', '부대/noun', '혁명/noun', '수비대/noun', '대한/noun', '보복/noun', '기습/noun', '공격/noun', '단행/noun', '것/noun', '후세인/noun', '정권/noun', '전복/noun', '이란/noun', '정권/noun', '교체/noun', '작전/noun', '것/noun', '언론/noun', '전하/noun', '미국/noun', '갈래/noun', '방향/noun', '이란/noun', '공격/noun', '군사작전/noun', '계획/noun', '첫째/noun', '이라크/noun', '국경/noun', '주력/noun', '군/noun', '공격/noun'] 1.0 \n",
      "\n",
      "796632 ['이란/noun', '공격/noun', '계획/noun', '수립/noun', '전운/noun', '중동/noun', '서울/noun', '연합뉴스/noun', '이란/noun', '핵/noun', '프로그램/noun', '미국/noun', '이란/noun', '긴장/noun', '전쟁/noun', '것/noun', '지난해/noun', '12월/number', '유엔/noun', '안전보장/noun', '이사회/noun', '결의/noun', '안/noun', '이란/noun', '핵/noun', '개발/noun', '중단/noun', '시한/noun', '21일/number', '가운데/noun', '미국/noun', '이란/noun', '공격/noun', '계획/noun', '공개/noun', '등/noun', '걸프/noun', '지역/noun', '전운/noun', '고조/noun', '영국/noun', 'bbc/alpha', '방송/noun', '인터넷/noun', '판/noun', '미국/noun', '이란/noun', '공습/noun', '위/noun', '비상/noun', '계획/noun', 'contingency/alpha', 'plan/alpha', '수립/noun', '20일/number', '보도/noun', 'bbc/alpha', '방송/noun', '입수/noun', '비상/noun', '계획/noun', '미국/noun', '공격/noun', '목표/noun', '이란/noun', '핵/noun', '시설/noun', '군/noun', '시설/noun', '대부분/noun', '포함/noun', '것/noun', '미국/noun', '이란/noun', '공격/noun', '계획/noun', '이란/noun', '우라늄/noun', '농축/noun', '중단/noun', '설득/noun', '주장/noun', 'bbc/alpha', '방송/noun', '외교/noun', '소식통/noun', '말/noun', '인용/noun', '플로리다주/noun', '중부/noun', '사령부/noun', '고위/noun', '관리/noun', '외교/noun', '노력/noun', '대안/noun', '이란/noun', '내/noun', '공격/noun', '목표/noun', '물/noun', '정/noun', '상태/noun', '말/noun', '문제/noun', '이란/noun', '공격/noun', '명분/noun', '것/noun', 'bbc/alpha', '방송/noun', '프랭크/noun', '가드/noun', '너/noun', '안보/noun', '담당/noun', '특파원/noun', '이란/noun', '핵/noun', '무기/noun', '개발/noun', '확인/noun', '이라크/noun', '주둔/noun', '미군/noun', '대한/noun', '공격/noun', '이란/noun', '지원/noun', '것/noun', '미국/noun', '이란/noun', '대한/noun', '공격/noun', '가능성/noun', '전망/noun', '실제/noun', '미국/noun', '관리/noun', '달/noun', '초/noun', '이란/noun', '이라크/noun', '시아파/noun', '무장/noun', '단체/noun', '무기/noun', '제공/noun', '증거/noun', '주장/noun', '의혹/noun', '대해/noun', '마무/noun', '드/noun', '아마디네자드/noun', '이란/noun', '대통령/noun', '미군/noun', '이라크/noun', '주둔/noun', '연장/noun', '위/noun', '구실/noun', '비난/noun', '이란/noun', '입장/noun', '이란/noun', '지난/noun', '18일/number', '핵/noun', '기술/noun', '개발/noun', '지속/noun', '것/noun', '기존/noun', '입장/noun', '재/noun', '확인/noun', '이란/noun', '혁명/noun', '수비대/noun', '19일/number', '사흘/noun', '이란/noun', '내/noun', '16/number', '개/noun', '주/noun', '6만/number', '동원/noun', '대규모/noun', '군사훈련/noun', '돌입/noun', '이란/noun', '혁명/noun', '수비대/noun', '달/noun', '초/noun', '해군/noun', '공군/noun'] 0.951585 \n",
      "\n",
      "675309 ['이란/noun', '혁명/noun', '수비대/noun', '공격/noun', '검토/noun', '뉴요커/noun', '훈련/noun', '캠프/noun', '지휘/noun', '시설/noun', '등/noun', '조기/noun', '공격/noun', '추진/noun', '워싱턴/noun', '연합뉴스/noun', '이기/noun', '창/noun', '특파원/noun', '조지/noun', '부시/noun', '행정부/noun', '이란/noun', '대한/noun', '군사/noun', '공격/noun', '검토/noun', '결과/noun', '핵/noun', '시설/noun', '포함/noun', '공습/noun', '이라크/noun', '내/noun', '분쟁/noun', '것/noun', '판단/noun', '이란/noun', '혁명/noun', '수비대/noun', '공격/noun', '방향/noun', '공격/noun', '목표/noun', '선회/noun', '뉴요커/noun', '최신/noun', '호가/noun', '보도/noun', '뉴요커/noun', '의/noun', '탐사보도/noun', '기자/noun', '세이모어/noun', '허시/noun', '표적/noun', '이동/noun', 'shifting/alpha', 'targets/alpha', '란/noun', '8일/number', '기사/noun', '백악관/noun', '여름/noun', '딕/noun', '체/noun', '부통령/noun', '실/noun', '압박/noun', '아래/noun', '이란/noun', '공격/noun', '계획/noun', '재/noun', '검토/noun', '합참/noun', '요청/noun', '최근/noun', '계획/noun', '핵/noun', '시설/noun', '포함/noun', '목표/noun', '물/noun', '공격/noun', '당초/noun', '방안/noun', '테헤란/noun', '등지/noun', '이란/noun', '혁명/noun', '수비대/noun', '표적/noun', '공격/noun', '쪽/noun', '전/noun', '이처럼/noun', '이란/noun', '공격/noun', '방향/noun', '핵확산/noun', '저지/noun', '테러/noun', '전/noun', '개념/noun', '것/noun', '이란/noun', '핵/noun', '위협/noun', '문제/noun', '미국/noun', '내/noun', '여론/noun', '형성/noun', '실패/noun', '이란/noun', '공습/noun', '대한/noun', '국민/noun', '지지/noun', '미약/noun', '결론/noun', '부시/noun', '대통령/noun', '참모/noun', '진/noun', '때문/noun', '허시/noun', '기자/noun', '익명/noun', '소식통/noun', '인용/noun', '또/noun', '미국/noun', '내/noun', '정보기관/noun', '사이/noun', '이란/noun', '핵폭탄/noun', '개발/noun', '앞/noun', '최소한/noun', '5년/number', '것/noun', '공감/noun', '대가/noun', '형성/noun', '반면/noun', '이란/noun', '이라크전/noun', '지정학적/noun', '승리자/noun', '인식/noun', '확산/noun', '것/noun', '이/noun', '변화/noun', '요인/noun', '허시/noun', '기자/noun', '분석/noun', '부시/noun', '대통령/noun', '지난/noun', '여름/noun', '라이언/noun', '로커/noun', '이라크/noun', '주재/noun', '대사/noun', '화상회의/noun', '이란/noun', '국경/noun', '너머/noun', '목표/noun', '대한/noun', '공격/noun', '검토/noun', '중이/noun', '라면/noun', '이라크/noun', '사태/noun', '대한/noun', '개입/noun', '중단/noun', '경우/noun', '미국/noun', '보복/noun', '직면/noun', '것임/noun', '이란/noun', '통보/noun', '지시/noun', '바/noun', '당시/noun', '화상회의/noun', '영국군/noun', '이란/noun', '공격/noun', '지원/noun'] 0.93731624 \n",
      "\n",
      "787467 ['이란/noun', '혁명/noun', '수비대/noun', '공격/noun', '검토/noun', '뉴요커/noun', '훈련/noun', '캠프/noun', '지휘/noun', '시설/noun', '등/noun', '조기/noun', '공격/noun', '추진/noun', '워싱턴/noun', '연합뉴스/noun', '이기/noun', '창/noun', '특파원/noun', '조지/noun', '부시/noun', '행정부/noun', '이란/noun', '대한/noun', '군사/noun', '공격/noun', '검토/noun', '결과/noun', '핵/noun', '시설/noun', '포함/noun', '공습/noun', '이라크/noun', '내/noun', '분쟁/noun', '것/noun', '판단/noun', '이란/noun', '혁명/noun', '수비대/noun', '공격/noun', '방향/noun', '공격/noun', '목표/noun', '선회/noun', '뉴요커/noun', '최신/noun', '호가/noun', '보도/noun', '뉴요커/noun', '의/noun', '탐사보도/noun', '기자/noun', '세이모어/noun', '허시/noun', '표적/noun', '이동/noun', 'shifting/alpha', 'targets/alpha', '란/noun', '8일/number', '기사/noun', '백악관/noun', '여름/noun', '딕/noun', '체/noun', '부통령/noun', '실/noun', '압박/noun', '아래/noun', '이란/noun', '공격/noun', '계획/noun', '재/noun', '검토/noun', '합참/noun', '요청/noun', '최근/noun', '계획/noun', '핵/noun', '시설/noun', '포함/noun', '목표/noun', '물/noun', '공격/noun', '당초/noun', '방안/noun', '테헤란/noun', '등지/noun', '이란/noun', '혁명/noun', '수비대/noun', '표적/noun', '공격/noun', '쪽/noun', '전/noun', '이처럼/noun', '이란/noun', '공격/noun', '방향/noun', '핵확산/noun', '저지/noun', '테러/noun', '전/noun', '개념/noun', '것/noun', '이란/noun', '핵/noun', '위협/noun', '문제/noun', '미국/noun', '내/noun', '여론/noun', '형성/noun', '실패/noun', '이란/noun', '공습/noun', '대한/noun', '국민/noun', '지지/noun', '미약/noun', '결론/noun', '부시/noun', '대통령/noun', '참모/noun', '진/noun', '때문/noun', '허시/noun', '기자/noun', '익명/noun', '소식통/noun', '인용/noun', '또/noun', '미국/noun', '내/noun', '정보기관/noun', '사이/noun', '이란/noun', '핵폭탄/noun', '개발/noun', '앞/noun', '최소한/noun', '5년/number', '것/noun', '공감/noun', '대가/noun', '형성/noun', '반면/noun', '이란/noun', '이라크전/noun', '지정학적/noun', '승리자/noun', '인식/noun', '확산/noun', '것/noun', '이/noun', '변화/noun', '요인/noun', '허시/noun', '기자/noun', '분석/noun', '부시/noun', '대통령/noun', '지난/noun', '여름/noun', '라이언/noun', '로커/noun', '이라크/noun', '주재/noun', '대사/noun', '화상회의/noun', '이란/noun', '국경/noun', '너머/noun', '목표/noun', '대한/noun', '공격/noun', '검토/noun', '중이/noun', '라면/noun', '이라크/noun', '사태/noun', '대한/noun', '개입/noun', '중단/noun', '경우/noun', '미국/noun', '보복/noun', '직면/noun', '것임/noun', '이란/noun', '통보/noun', '지시/noun', '바/noun', '당시/noun', '화상회의/noun', '영국군/noun', '이란/noun', '공격/noun', '지원/noun'] 0.93731624 \n",
      "\n"
     ]
    }
   ],
   "source": [
    "for i in range(5) :\n",
    "    print(sims[i][0], tokens[sims[i][0]], sims[i][1], \"\\n\")"
   ]
  },
  {
   "cell_type": "code",
   "execution_count": null,
   "metadata": {},
   "outputs": [],
   "source": []
  }
 ],
 "metadata": {
  "kernelspec": {
   "display_name": "Python 3",
   "language": "python",
   "name": "python3"
  },
  "language_info": {
   "codemirror_mode": {
    "name": "ipython",
    "version": 3
   },
   "file_extension": ".py",
   "mimetype": "text/x-python",
   "name": "python",
   "nbconvert_exporter": "python",
   "pygments_lexer": "ipython3",
   "version": "3.6.6"
  }
 },
 "nbformat": 4,
 "nbformat_minor": 2
}
